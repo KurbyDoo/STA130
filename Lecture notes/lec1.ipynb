{
 "cells": [
  {
   "cell_type": "code",
   "execution_count": null,
   "metadata": {},
   "outputs": [],
   "source": [
    "import pandas as pd\n",
    "\n",
    "url = \"https://raw.githubusercontent.com/pointOfive/STA130_F23/main/Data/amazonbooks.csv\"\n",
    "# fail https://github.com/pointOfive/STA130_F23/blob/main/Data/amazonbooks.csv\n",
    "\n",
    "# 1. demonstrate local file\n",
    "# 2. demo some ChatGPT\n",
    "\n",
    "# a *function* with required and default *arguments*\n",
    "# ab = pd.read_csv(url, encoding='UTF-8') # fails\n",
    "# ab = pd.read_csv(url) # fails, because it defaults to UTF-8\n",
    "ab = pd.read_csv(url, encoding=\"ISO-8859-1\")# works!\n",
    "ab"
   ]
  },
  {
   "cell_type": "code",
   "execution_count": null,
   "metadata": {},
   "outputs": [],
   "source": [
    "ab.isna() # Alias for .isnull()"
   ]
  },
  {
   "cell_type": "code",
   "execution_count": null,
   "metadata": {},
   "outputs": [],
   "source": [
    "ab.isna().sum() # Chaining, counts missing values in each column"
   ]
  },
  {
   "cell_type": "markdown",
   "metadata": {},
   "source": [
    "Rows are the first axis (index 0)\n",
    "Columns are the second axis (index 1)"
   ]
  },
  {
   "cell_type": "code",
   "execution_count": null,
   "metadata": {},
   "outputs": [],
   "source": [
    "ab.isna().sum(axis=0) # 0 is default"
   ]
  },
  {
   "cell_type": "code",
   "execution_count": null,
   "metadata": {},
   "outputs": [],
   "source": [
    "ab.isna().sum(axis=1) # counts number of missing across the rows"
   ]
  },
  {
   "cell_type": "code",
   "execution_count": null,
   "metadata": {},
   "outputs": [],
   "source": [
    "ab['Number of missing per row'] = ab.isna().sum(axis=1)\n",
    "# Adds a new column with the count of missing items\n",
    "# The count shows 0 since python is counting False (not missing) as 0\n",
    "ab"
   ]
  },
  {
   "cell_type": "markdown",
   "metadata": {},
   "source": [
    "### Types"
   ]
  },
  {
   "cell_type": "code",
   "execution_count": null,
   "metadata": {},
   "outputs": [],
   "source": [
    "ab.isna().dtypes # all are bool cause its counting missing or not"
   ]
  },
  {
   "cell_type": "code",
   "execution_count": null,
   "metadata": {},
   "outputs": [],
   "source": [
    "ab.dtypes"
   ]
  },
  {
   "cell_type": "code",
   "execution_count": null,
   "metadata": {},
   "outputs": [],
   "source": [
    "### Changing Datatypes\n",
    "# Slow way\n",
    "ab['NumPages'].dtypes # returns float\n",
    "# ab['NumPages'].astype('int64')\n",
    "# errors since there are missing values that do not evaluate to integer\n",
    "# NumPages has 2 bits of missing dat\n",
    "ab['NumPages'].dropna().astype('int64') # drop na has lots of arguments"
   ]
  },
  {
   "cell_type": "code",
   "execution_count": null,
   "metadata": {},
   "outputs": [],
   "source": [
    "ab['NumPages'].dropna().astype('int64')\n",
    "# drop na has lots of arguments"
   ]
  },
  {
   "cell_type": "code",
   "execution_count": null,
   "metadata": {},
   "outputs": [],
   "source": [
    "# need to reassign but missing data will displace indices\n",
    "# ab['NumPages'] = ab['NumPages'].dropna().astype('int64')\n",
    "ab_nonan = ab.dropna().copy()\n",
    "ab_nonan['NumPages'] = ab_nonan['NumPages'].astype('int64')\n",
    "ab_nonan.dtypes # converted to "
   ]
  },
  {
   "cell_type": "markdown",
   "metadata": {},
   "source": [
    "Prof likes all of them but Phonx music for work energy vibes?\n",
    "Copy quizes as they contain hints for the midterm questions!!!"
   ]
  },
  {
   "cell_type": "code",
   "execution_count": null,
   "metadata": {},
   "outputs": [],
   "source": [
    "\n",
    "ab_dropna = ab.dropna()\n",
    "new_data_types = {'Hard_or_Paper': \"category\", \n",
    "                  'NumPages': int,\n",
    "                  'Pub year': int}\n",
    "# rather than doing them separately like \n",
    "#ab_dropna_v2['Hard_or_Paper'] = ab_dropna_v2['Hard_or_Paper'].astype(\"object\")\n",
    "\n",
    "# Demo some ChatGPT?\n",
    "\n",
    "# ab = ab.astype(new_data_types)\n",
    "ab_dropna = ab_dropna.astype(new_data_types)\n",
    "pd.DataFrame({\"Orignal\": ab.dtypes, \"Adjusted\": ab_dropna.dtypes})"
   ]
  },
  {
   "cell_type": "markdown",
   "metadata": {},
   "source": [
    "### Terms\n",
    "Sample Mean:\n",
    "\n",
    "$\\bar x = \\frac{1}{n} \\sum_{i=1}^{n} x_i$\n",
    "\n",
    "Sample Variance (Average squared distance from the sample mean):\n",
    "\n",
    "$s^2 = \\frac{1}{n - 1} \\sum_{i=1}^{n} (x_i - \\bar x)^2$\n",
    "\n",
    "Sample deviation:\n",
    "\n",
    "$s = \\sqrt{ s^2 }$"
   ]
  },
  {
   "cell_type": "code",
   "execution_count": null,
   "metadata": {},
   "outputs": [],
   "source": [
    "url = \"https://raw.githubusercontent.com/KeithGalli/pandas/master/pokemon_data.csv\"\n",
    "# fail https://github.com/KeithGalli/pandas/blob/master/pokemon_data.csv\n",
    "pokeaman = pd.read_csv(url)\n",
    "colnames_wtype = {k:k+\" (\"+v+\")\" for k,v in zip(pokeaman.columns,pokeaman.dtypes.values.astype(str))}\n",
    "pokeaman.rename(columns=colnames_wtype, inplace=True)\n",
    "pokeaman"
   ]
  },
  {
   "cell_type": "code",
   "execution_count": null,
   "metadata": {},
   "outputs": [],
   "source": [
    "pokeaman.describe()\n",
    "# some columns are missing since they are only analyzing numerical data\n",
    "# what would you do with words and others"
   ]
  },
  {
   "cell_type": "code",
   "execution_count": 24,
   "metadata": {},
   "outputs": [
    {
     "data": {
      "text/plain": [
       "Type 1 (object)\n",
       "Water       112\n",
       "Normal       98\n",
       "Grass        70\n",
       "Bug          69\n",
       "Psychic      57\n",
       "Fire         52\n",
       "Electric     44\n",
       "Rock         44\n",
       "Dragon       32\n",
       "Ground       32\n",
       "Ghost        32\n",
       "Dark         31\n",
       "Poison       28\n",
       "Steel        27\n",
       "Fighting     27\n",
       "Ice          24\n",
       "Fairy        17\n",
       "Flying        4\n",
       "Name: count, dtype: int64"
      ]
     },
     "execution_count": 24,
     "metadata": {},
     "output_type": "execute_result"
    }
   ],
   "source": [
    "pokeaman['Type 1 (object)'].value_counts()\n",
    "# here are frequency of type 1 counts"
   ]
  },
  {
   "cell_type": "code",
   "execution_count": null,
   "metadata": {},
   "outputs": [],
   "source": [
    "# how can we find the frequency of multiple columns\n",
    "pokeaman[['Type 1 (object)', 'Type 2 (object)']].value_counts()\n",
    "\n",
    "# seems to be a missing space?\n",
    "# The empty space simply means the type is the same as above"
   ]
  },
  {
   "cell_type": "markdown",
   "metadata": {},
   "source": [
    "### Sorting and indexing"
   ]
  },
  {
   "cell_type": "code",
   "execution_count": null,
   "metadata": {},
   "outputs": [],
   "source": [
    "pokeaman['Legendary (bool)'] # grab single column"
   ]
  },
  {
   "cell_type": "code",
   "execution_count": null,
   "metadata": {},
   "outputs": [],
   "source": [
    "pokeaman[['Attack (int64)', 'Legendary (bool)']] # grab multiple"
   ]
  },
  {
   "cell_type": "code",
   "execution_count": null,
   "metadata": {},
   "outputs": [],
   "source": [
    "pokeaman[:10] # grab first 10 rows\n",
    "# Left side column does not line up with rows of data frame it is just a name"
   ]
  },
  {
   "cell_type": "code",
   "execution_count": null,
   "metadata": {},
   "outputs": [],
   "source": [
    "pokeaman.dropna()[:10]\n",
    "# ID no longer aligns"
   ]
  },
  {
   "cell_type": "code",
   "execution_count": null,
   "metadata": {},
   "outputs": [],
   "source": [
    "pokeaman.dropna()[:10][['Attack (int64)', 'Legendary (bool)']] # Way 1 to get slice"
   ]
  },
  {
   "cell_type": "code",
   "execution_count": null,
   "metadata": {},
   "outputs": [],
   "source": [
    "pokeaman.iloc[:10,1:4] # [row_start:row_end, col_start:col_end]\n",
    "# Cannot name columns only slices"
   ]
  },
  {
   "cell_type": "code",
   "execution_count": null,
   "metadata": {},
   "outputs": [],
   "source": [
    "pokeaman.loc[:10, ['Attack (int64)', 'Legendary (bool)']]\n",
    "# can use slice for rows and names for columns\n",
    "# & boolean conditionals?"
   ]
  }
 ],
 "metadata": {
  "kernelspec": {
   "display_name": "Python 3",
   "language": "python",
   "name": "python3"
  },
  "language_info": {
   "codemirror_mode": {
    "name": "ipython",
    "version": 3
   },
   "file_extension": ".py",
   "mimetype": "text/x-python",
   "name": "python",
   "nbconvert_exporter": "python",
   "pygments_lexer": "ipython3",
   "version": "3.11.9"
  }
 },
 "nbformat": 4,
 "nbformat_minor": 2
}
