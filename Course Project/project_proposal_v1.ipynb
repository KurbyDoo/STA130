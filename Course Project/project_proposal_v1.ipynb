{
 "cells": [
  {
   "cell_type": "markdown",
   "metadata": {},
   "source": [
    "# STA130 Course Project Proposal - Cayden Wong"
   ]
  },
  {
   "cell_type": "markdown",
   "metadata": {},
   "source": [
    "### Research Question 1\n",
    "What are the common barriers to social connection, and how do perceived barriers, such as \"being too busy,\" influence actual social interaction patterns? Is there a difference between perceived social barriers and the actual barriers commonly faced?"
   ]
  },
  {
   "cell_type": "markdown",
   "metadata": {},
   "source": [
    "### Variables of interest\n",
    "**Logistical Barriers** (`CONNECTION_social_barriers_too_busy`, etc.)\n",
    "- Helps reveal which aspects of daily life might impact social connectivity and are often independent of social desirability bias.\n",
    "\n",
    "**Fear / Anxiety in Social Interactions** (`CONNECTION_social_barriers_afraid`, etc.)\n",
    "- Assess whether psychological barriers, like social anxiety or fear of rejection, are primary deterrents and how they correlate with in-person and online interactions. \n",
    "\n",
    "**Income and Financial Barriers** (`CONNECTION_social_barriers_money`)\n",
    "- Examine how income limits access to certain activities, which are beneficial to improve loneliness and  identify activities which improved loneliness.\n",
    "\n",
    "**Perceived Busyness and Actual Engagement** (`CONNECTION_social_barriers_too_busy`, `CONNECTION_social_media_time_per_day`, `CONNECTION_social_num_close_relationships`)\n",
    "- Is \"being too busy\" a genuinely limiting factor for social interactions or does it reflect a perceived rather than actual barrier. These comparisons might indicate whether the level of busyness aligns with other engagement metrics."
   ]
  },
  {
   "cell_type": "markdown",
   "metadata": {},
   "source": [
    "**Planned Visualizations and Summary Statistics**:\n",
    "- **Frequency Distributions as a bar plot**: We can track the number of variables participants indicate act as barriers in their lives. From the plot, we can determine which barriers resonate with more people than others. \n",
    "- **Box Plots/Violin Plots**: After dividing participants by number of perceived barriers, we can compare the perceived loneliness between these groups. Is there a relationship between number of perceived barriers and loneliness?"
   ]
  },
  {
   "cell_type": "markdown",
   "metadata": {},
   "source": [
    "### Analysis Plan\n",
    "1. **Chi-Square test**: Examining associations between the perceived barrier of \"being too busy\" and actual engagement metrics, such as time spent on social media, number of close relationships, and frequency of social activities. Determine whether there is correlation between each type of barrier and loneliness. We can cross-reference loneliness with those who agree with the questions posed and determine whether the number of variables they selected increases their perceived loneliness. Which categories correlate with higher loneliness, which have no impact?\n",
    "2. **Bootstrapping/t-tests**: Conducting tests to evaluate if differences in reported barriers exist among various demographic subgroups, such as income groups or those frequently engaging in social activities.\n",
    "\n",
    "**Assumptions**:\n",
    "- **Self-Reporting Bias**: Self-reported perceptions of busyness or social anxiety may not fully reflect actual constraints.\n",
    "- **Normality**: Some analyses, especially hypothesis tests, assume data normality, which may not hold for certain barrier variables."
   ]
  },
  {
   "cell_type": "markdown",
   "metadata": {},
   "source": [
    "### Hypotheses and Expected Results\n",
    "**Hypothesis**: Perceived busyness is more likely to be a subjective constraint than an actual limiter of social interaction. Perceived barriers by individuals differ from what they expect to be the biggest barriers to social interaction. \n",
    "\n",
    "**Expected Results**: Individuals with perceived logistical barriers may still participate in online or asynchronous activities, suggesting flexible socialization options for busy individuals. Fear and anxiety variables may exhibit a strong negative association with in-person interactions, independent of logistical constraints. Income may play a more significant role in access to in-person social activities rather than in online engagements."
   ]
  },
  {
   "cell_type": "markdown",
   "metadata": {},
   "source": [
    "### Research Question 2\n",
    "What social behaviours are commonly exhibited by individuals experiencing loneliness and perceived social support relate to reported loneliness? Additionally, how does the nature of one’s relationship with a lonely individual impact the effectiveness of interventions to reduce loneliness?"
   ]
  },
  {
   "cell_type": "markdown",
   "metadata": {},
   "source": [
    "### Variables of interest\n",
    "**Loneliness Indicators** (e.g., `LONELY_ucla_loneliness_scale`, `LONELY_direct`, `QUALITATIVE_situational_loneliness`)\n",
    "- Serve as direct measures of loneliness levels and situational factors associated with loneliness. \n",
    "\n",
    "**Social Frequency and Quality** (e.g., `CONNECTION_social_num_close_friends`, `CONNECTION_meaningful_interactions`, `RELATIONSHIPS_frequency_f2f_person_*`)\n",
    "- Allow analysis of how  frequency and quality of social interactions correlate with loneliness. Variables help examine whether more frequent interactions are associated with lower loneliness levels and also determine how factors such as one's relationship with others impacts the effect of their interaction on their loneliness. \n",
    "\n",
    "**Perceived Social Support and Attachment Styles** (`SOCIAL_ask_help_hesitant_*`)\n",
    "- Determine if perceived social support and attachment styles mitigate or exacerbate feelings of loneliness, helping us understand the role of psychological factors in loneliness.\n",
    "\n",
    "**Boredom and social phobias** (`PSYCH_rosenberg_self_esteem_*`,  `PSYCH_social_phobia_scale_*`, `PSYCH_rosenberg_self_esteem_*`)\n",
    "- Can this act as an indicator for being lonely? Since boredom may correlate with social disconnection, analysing boredom proneness helps gauge whether individuals with higher boredom levels are more likely to experience loneliness.\n",
    "\n",
    "**Willingness to Reach Out and Help-Seeking Behaviour** (`CONNECTION_reached_out_*`, `CONNECTION_comfort_talking_with_strangers`)\n",
    "- How often as well as how do lonely individuals seek social support?\n",
    "- Helps us find out which type of people are more likely to reach out to others and if certain social barriers otherwise discourage them."
   ]
  },
  {
   "cell_type": "markdown",
   "metadata": {},
   "source": [
    "**Planned Visualizations and Summary Statistics:**\n",
    "- **Box Plots**: To visualize the distribution of loneliness scores across different attachment styles or self-reported help-seeking behaviours.To explore relationships between loneliness scores and between the frequency of meaningful interactions and reported loneliness levels.\n",
    "- **Bar Plots**: To illustrate the frequency of specific social barriers (e.g., reluctance to reach out or perceived barriers to interaction). Also for loneliness and boredom indicators to show the distribution of reported levels among participants. In addition, we can differentiate between specific relationships between people and whether having some types of relationships makes individuals feel less lonely, for example having a spouse versus being single."
   ]
  },
  {
   "cell_type": "markdown",
   "metadata": {},
   "source": [
    "### Analysis Plan\n",
    "1. **Descriptive Statistics and Visualizations**: Summarize levels of reported loneliness, social media use, and interaction frequency to establish a baseline understanding of social behaviours among lonely individuals.\n",
    "2. **Correlation Analysis using Chi-square test/t-test/fisher exact**: Test for relationships between loneliness and other variables such as in-person interaction frequency and perceived social support using a correlation matrix. For binary data, t-testing can be used to compare relationships between groups.\n",
    "3. **Comparative Analysis by Subgroups**: Compare loneliness levels across different attachment styles and help-seeking attitudes to examine if these psychological factors influence loneliness.\n",
    "\n",
    "\n",
    "**Assumptions**:\n",
    "- **Normality**: Some variables, particularly continuous measures like loneliness scores, are assumed to be approximately normally distributed for statistical tests.\n",
    "- **Self-Reporting Bias**: As with any self-reported measure, loneliness and social behaviors may be subject to bias, and participants may underreport or overreport behaviors."
   ]
  }
 ],
 "metadata": {
  "language_info": {
   "name": "python"
  }
 },
 "nbformat": 4,
 "nbformat_minor": 2
}
