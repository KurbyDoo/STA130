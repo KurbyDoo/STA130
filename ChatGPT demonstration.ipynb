{
 "cells": [
  {
   "cell_type": "markdown",
   "id": "52e857a5",
   "metadata": {},
   "source": [
    "Here is an updated link to the Titanic dataset, which contains missing values:\n",
    "\n",
    "- **Title**: Titanic: Machine Learning from Disaster\n",
    "- **Description**: This dataset includes passenger information from the Titanic disaster, such as age, gender, class, and whether they survived. It has missing values in the 'Age', 'Cabin', and 'Embarked' columns.\n",
    "- **URL**: [Titanic Dataset CSV](https://web.stanford.edu/class/archive/cs/cs109/cs109.1166/stuff/titanic.csv)\n",
    "\n",
    "This should work for your analysis. Let me know if you need further assistance with the dataset!\n",
    "\n",
    "If the output is not displaying properly, you can try ensuring that all missing data counts are clearly shown in a table format. Here’s how to format it properly and display only the columns with missing data:\n",
    "\n",
    "### Code to display missing values in a clean format:\n",
    "\n",
    "```python\n",
    "import pandas as pd\n",
    "\n",
    "# Load the Titanic dataset with missing values\n",
    "url = 'https://raw.githubusercontent.com/datasciencedojo/datasets/master/titanic.csv'\n",
    "df = pd.read_csv(url)\n",
    "\n",
    "# Check for missing values\n",
    "missing_values = df.isnull().sum()\n",
    "\n",
    "# Filter and display only columns with missing values\n",
    "missing_values_df = missing_values[missing_values > 0].reset_index()\n",
    "missing_values_df.columns = ['Column', 'Missing Values']\n",
    "\n",
    "# Display the DataFrame with columns that have missing values\n",
    "missing_values_df\n",
    "```\n",
    "\n",
    "### What this does:\n",
    "1. **`df.isnull().sum()`**: Counts the number of missing values in each column.\n",
    "2. **`missing_values > 0`**: Filters only columns with missing values.\n",
    "3. **`reset_index()`**: Converts the output to a DataFrame so that it can be displayed more cleanly in the notebook.\n",
    "4. **Renaming columns**: Makes the display easier to interpret by renaming the columns to `Column` and `Missing Values`.\n",
    "\n",
    "This will output a table listing only the columns with missing data, along with the count of missing values for each one.\n",
    "\n",
    "Let me know if this resolves the issue!"
   ]
  },
  {
   "cell_type": "code",
   "execution_count": 22,
   "id": "7034a3af",
   "metadata": {},
   "outputs": [
    {
     "name": "stdout",
     "output_type": "stream",
     "text": [
      "     Column  Missing Values\n",
      "0       Age             177\n",
      "1     Cabin             687\n",
      "2  Embarked               2\n"
     ]
    }
   ],
   "source": [
    "import pandas as pd\n",
    "\n",
    "# Load the Titanic dataset with missing values\n",
    "url = 'https://raw.githubusercontent.com/datasciencedojo/datasets/master/titanic.csv'\n",
    "df = pd.read_csv(url)\n",
    "\n",
    "# Check for missing values\n",
    "missing_values = df.isnull().sum()\n",
    "\n",
    "# Filter and display only columns with missing values\n",
    "missing_values_df = missing_values[missing_values > 0].reset_index()\n",
    "missing_values_df.columns = ['Column', 'Missing Values']\n",
    "\n",
    "print(missing_values_df)"
   ]
  },
  {
   "cell_type": "code",
   "execution_count": null,
   "id": "4775af73",
   "metadata": {},
   "outputs": [],
   "source": []
  }
 ],
 "metadata": {
  "kernelspec": {
   "display_name": "Python 3 (ipykernel)",
   "language": "python",
   "name": "python3"
  },
  "language_info": {
   "codemirror_mode": {
    "name": "ipython",
    "version": 3
   },
   "file_extension": ".py",
   "mimetype": "text/x-python",
   "name": "python",
   "nbconvert_exporter": "python",
   "pygments_lexer": "ipython3",
   "version": "3.11.6"
  }
 },
 "nbformat": 4,
 "nbformat_minor": 5
}
