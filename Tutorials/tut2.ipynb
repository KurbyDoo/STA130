{
 "cells": [
  {
   "cell_type": "markdown",
   "metadata": {},
   "source": [
    "### Some python features...\n",
    "\n",
    "##### tuple()\n",
    "An immutiable ordered collection\n",
    "\n",
    "##### list()\n",
    "A mutiable ordered collection\n",
    "\n",
    "##### dict()\n",
    "A collection that stores key: value pairs, where every key has a unique value"
   ]
  },
  {
   "cell_type": "code",
   "execution_count": 13,
   "metadata": {},
   "outputs": [
    {
     "name": "stdout",
     "output_type": "stream",
     "text": [
      "{'name': 'Alice', 'age': '25'}\n"
     ]
    }
   ],
   "source": [
    "d = dict(name=\"Alice\", age=\"25\") # like react element\n",
    "print(d)"
   ]
  },
  {
   "cell_type": "markdown",
   "metadata": {},
   "source": [
    "### Numpy\n",
    "Some functions\n"
   ]
  },
  {
   "cell_type": "code",
   "execution_count": 14,
   "metadata": {},
   "outputs": [],
   "source": [
    "import numpy as np\n",
    "np_array = np.array([1, 2, 3]) # returns a \"faster\" list\n",
    "choice = np.random.choice(np_array) # returns a random item from a collection"
   ]
  },
  {
   "cell_type": "code",
   "execution_count": 15,
   "metadata": {},
   "outputs": [
    {
     "data": {
      "text/plain": [
       "array([1, 2, 3])"
      ]
     },
     "execution_count": 15,
     "metadata": {},
     "output_type": "execute_result"
    }
   ],
   "source": [
    "np_array"
   ]
  },
  {
   "cell_type": "code",
   "execution_count": 16,
   "metadata": {},
   "outputs": [
    {
     "data": {
      "text/plain": [
       "3"
      ]
     },
     "execution_count": 16,
     "metadata": {},
     "output_type": "execute_result"
    }
   ],
   "source": [
    "choice"
   ]
  },
  {
   "cell_type": "markdown",
   "metadata": {},
   "source": [
    "### Monty hall simulation"
   ]
  },
  {
   "cell_type": "code",
   "execution_count": 26,
   "metadata": {},
   "outputs": [
    {
     "name": "stdout",
     "output_type": "stream",
     "text": [
      "-4.919999999997149e-05\n"
     ]
    }
   ],
   "source": [
    "import numpy as np\n",
    "import random as rd\n",
    "reps = 10000000\n",
    "n_doors = 100\n",
    "successes = 0\n",
    "for _ in range(reps):\n",
    "    winning_door = rd.randint(1, n_doors)\n",
    "    user_choice = rd.randint(1, n_doors)\n",
    "\n",
    "    other_choice = user_choice\n",
    "    if winning_door == user_choice:\n",
    "        while other_choice == user_choice:\n",
    "            other_choice = rd.randint(1, n_doors)\n",
    "\n",
    "    else:\n",
    "        other_choice = winning_door\n",
    "\n",
    "\n",
    "    if other_choice == winning_door:\n",
    "        successes += 1\n",
    "\n",
    "print(((n_doors - 1) / n_doors) - (successes / reps))"
   ]
  },
  {
   "cell_type": "markdown",
   "metadata": {},
   "source": []
  },
  {
   "cell_type": "markdown",
   "metadata": {},
   "source": []
  }
 ],
 "metadata": {
  "kernelspec": {
   "display_name": "Python 3",
   "language": "python",
   "name": "python3"
  },
  "language_info": {
   "codemirror_mode": {
    "name": "ipython",
    "version": 3
   },
   "file_extension": ".py",
   "mimetype": "text/x-python",
   "name": "python",
   "nbconvert_exporter": "python",
   "pygments_lexer": "ipython3",
   "version": "3.11.9"
  }
 },
 "nbformat": 4,
 "nbformat_minor": 2
}
